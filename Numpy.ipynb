{
  "nbformat": 4,
  "nbformat_minor": 0,
  "metadata": {
    "colab": {
      "provenance": [],
      "authorship_tag": "ABX9TyMZ0/dmM98oAG5kyJ5KzL1w",
      "include_colab_link": true
    },
    "kernelspec": {
      "name": "python3",
      "display_name": "Python 3"
    },
    "language_info": {
      "name": "python"
    }
  },
  "cells": [
    {
      "cell_type": "markdown",
      "metadata": {
        "id": "view-in-github",
        "colab_type": "text"
      },
      "source": [
        "<a href=\"https://colab.research.google.com/github/LavanyaMQuantumThinker/Numpy/blob/main/Numpy.ipynb\" target=\"_parent\"><img src=\"https://colab.research.google.com/assets/colab-badge.svg\" alt=\"Open In Colab\"/></a>"
      ]
    },
    {
      "cell_type": "markdown",
      "source": [
        "Numpy -Numerical Python"
      ],
      "metadata": {
        "id": "xYlhy1MlL-B4"
      }
    },
    {
      "cell_type": "markdown",
      "source": [
        "Numpy better than List\n",
        "-Faster- contigous(side-by-side) memory\n",
        "\n",
        "1. Memory Efficient\n",
        "2. Convenience\n",
        "3. MultiDimensional Arrays\n",
        "4. Rich Mathematical\n",
        "5. Statistical Funtions"
      ],
      "metadata": {
        "id": "_FNzqSSFMIog"
      }
    },
    {
      "cell_type": "code",
      "source": [
        "!pip install numpy"
      ],
      "metadata": {
        "colab": {
          "base_uri": "https://localhost:8080/"
        },
        "id": "9ylZw16xMH7_",
        "outputId": "c5ab71ac-d177-4bb4-d946-d0f09d3f1540"
      },
      "execution_count": null,
      "outputs": [
        {
          "output_type": "stream",
          "name": "stdout",
          "text": [
            "Requirement already satisfied: numpy in /usr/local/lib/python3.11/dist-packages (2.0.2)\n"
          ]
        }
      ]
    },
    {
      "cell_type": "code",
      "execution_count": null,
      "metadata": {
        "id": "wogA1ZV-L3an"
      },
      "outputs": [],
      "source": [
        "import numpy as np\n"
      ]
    },
    {
      "cell_type": "code",
      "source": [
        "#creating 1D array\n",
        "n1= np.array([1,2,3,4])\n",
        "print(n1)"
      ],
      "metadata": {
        "colab": {
          "base_uri": "https://localhost:8080/"
        },
        "id": "fSTv2FmGP8of",
        "outputId": "7cdd31dc-e5c1-493e-8544-a75f24db76eb"
      },
      "execution_count": null,
      "outputs": [
        {
          "output_type": "stream",
          "name": "stdout",
          "text": [
            "[1 2 3 4]\n"
          ]
        }
      ]
    },
    {
      "cell_type": "code",
      "source": [
        "#creating 2D array\n",
        "n2 = np.array([[1,2,3,4],[5,6,7,8]])\n",
        "print(n2)"
      ],
      "metadata": {
        "colab": {
          "base_uri": "https://localhost:8080/"
        },
        "id": "D1E8uDanQw1r",
        "outputId": "c456bc24-8eaa-40af-9af5-442a28cea80c"
      },
      "execution_count": null,
      "outputs": [
        {
          "output_type": "stream",
          "name": "stdout",
          "text": [
            "[[1 2 3 4]\n",
            " [5 6 7 8]]\n"
          ]
        }
      ]
    },
    {
      "cell_type": "code",
      "source": [
        "#Zero Filled 2D array\n",
        "n3= np.zeros([3,3])\n",
        "n3"
      ],
      "metadata": {
        "colab": {
          "base_uri": "https://localhost:8080/"
        },
        "id": "u_-uGWI4RQiQ",
        "outputId": "e8290828-4186-4abc-8531-73de0b9ab8a0"
      },
      "execution_count": null,
      "outputs": [
        {
          "output_type": "execute_result",
          "data": {
            "text/plain": [
              "array([[0., 0., 0.],\n",
              "       [0., 0., 0.],\n",
              "       [0., 0., 0.]])"
            ]
          },
          "metadata": {},
          "execution_count": 12
        }
      ]
    },
    {
      "cell_type": "markdown",
      "source": [
        "Here 0 is created as floating point so \"0.\" is created -To over come this next step will help"
      ],
      "metadata": {
        "id": "gTyhaNj7SJKQ"
      }
    },
    {
      "cell_type": "code",
      "source": [
        "n3 = np.zeros([3,3],dtype = \"int32\")\n",
        "print(n3)"
      ],
      "metadata": {
        "colab": {
          "base_uri": "https://localhost:8080/"
        },
        "id": "WatSjDLERyYO",
        "outputId": "d6eaa124-62c9-4c8f-96ed-39e4f27e8779"
      },
      "execution_count": null,
      "outputs": [
        {
          "output_type": "stream",
          "name": "stdout",
          "text": [
            "[[0 0 0]\n",
            " [0 0 0]\n",
            " [0 0 0]]\n"
          ]
        }
      ]
    },
    {
      "cell_type": "code",
      "source": [
        "n4 = np.ones([3,3],dtype= \"int32\")\n",
        "print(n4)"
      ],
      "metadata": {
        "colab": {
          "base_uri": "https://localhost:8080/"
        },
        "id": "N2VtOPDQTENG",
        "outputId": "37cf1406-ddc7-4df8-cc4d-ae30c0fdb6d6"
      },
      "execution_count": null,
      "outputs": [
        {
          "output_type": "stream",
          "name": "stdout",
          "text": [
            "[[1 1 1]\n",
            " [1 1 1]\n",
            " [1 1 1]]\n"
          ]
        }
      ]
    },
    {
      "cell_type": "code",
      "source": [
        "#Creating 3D array\n",
        "n5=np.ones([2,3,3],dtype=\"int32\")\n",
        "print(n5)"
      ],
      "metadata": {
        "colab": {
          "base_uri": "https://localhost:8080/"
        },
        "id": "VGX3VJrETwHE",
        "outputId": "0d3546c1-6a0e-4f84-aaa9-6a7ec3841ff0"
      },
      "execution_count": null,
      "outputs": [
        {
          "output_type": "stream",
          "name": "stdout",
          "text": [
            "[[[1 1 1]\n",
            "  [1 1 1]\n",
            "  [1 1 1]]\n",
            "\n",
            " [[1 1 1]\n",
            "  [1 1 1]\n",
            "  [1 1 1]]]\n"
          ]
        }
      ]
    },
    {
      "cell_type": "markdown",
      "source": [
        "This creates 3Dimensional Array -- It seems 2 Times 2D array created and it is also present in a array--so totally 3 array combinely creating 3D array"
      ],
      "metadata": {
        "id": "lMhiben4Uceo"
      }
    },
    {
      "cell_type": "code",
      "source": [
        "#Empty array\n",
        "n5= np.empty([2,3])\n",
        "print (n5)"
      ],
      "metadata": {
        "colab": {
          "base_uri": "https://localhost:8080/"
        },
        "id": "EH8hcgR4UZ3g",
        "outputId": "0b63901b-63f1-4cca-fdb2-ef07c188545e"
      },
      "execution_count": null,
      "outputs": [
        {
          "output_type": "stream",
          "name": "stdout",
          "text": [
            "[[2.61417004e-315 0.00000000e+000 2.68311345e-315]\n",
            " [1.63041663e-322 2.71572929e-315 6.64795013e-310]]\n"
          ]
        }
      ]
    }
  ]
}